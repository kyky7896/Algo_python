{
 "cells": [
  {
   "cell_type": "code",
   "execution_count": null,
   "id": "74d6cc5b",
   "metadata": {},
   "outputs": [],
   "source": [
    "## 이진수 변환\n",
    "https://www.acmicpc.net/problem/10829"
   ]
  },
  {
   "cell_type": "code",
   "execution_count": 13,
   "id": "bc81ff6d",
   "metadata": {},
   "outputs": [
    {
     "name": "stdout",
     "output_type": "stream",
     "text": [
      "53\n"
     ]
    }
   ],
   "source": [
    "a=input()"
   ]
  },
  {
   "cell_type": "code",
   "execution_count": 29,
   "id": "5b9da8fe",
   "metadata": {},
   "outputs": [
    {
     "name": "stdout",
     "output_type": "stream",
     "text": [
      "temp 1\n",
      "temp 10\n",
      "temp 101\n",
      "temp 1010\n",
      "temp 10101\n",
      "temp 101011\n",
      "110101\n"
     ]
    }
   ],
   "source": [
    "a=53\n",
    "temp=\"\"\n",
    "while True:\n",
    "    temp+=str(a%2)\n",
    "    print(\"temp\", temp)\n",
    "    a=a//2\n",
    "    if a==0:\n",
    "        break\n",
    "print(temp[::-1])"
   ]
  },
  {
   "cell_type": "code",
   "execution_count": 32,
   "id": "8347a1ca",
   "metadata": {},
   "outputs": [],
   "source": [
    "#################### 완성 코드 \n",
    "temp=\"\"\n",
    "def binary(a):\n",
    "    global temp\n",
    "    if a==0:\n",
    "        print(temp[::-1])\n",
    "    else:\n",
    "        temp+=str(a%2)\n",
    "        binary(a//2)\n",
    "\n",
    "\n",
    "n=int(input())\n",
    "binary(n)\n",
    "        "
   ]
  }
 ],
 "metadata": {
  "interpreter": {
   "hash": "0c7701efe94ec6489896f877714a695f8866877b777e627ecf601c348360e20f"
  },
  "kernelspec": {
   "display_name": "Python 3.10.0 64-bit",
   "language": "python",
   "name": "python3"
  },
  "language_info": {
   "codemirror_mode": {
    "name": "ipython",
    "version": 3
   },
   "file_extension": ".py",
   "mimetype": "text/x-python",
   "name": "python",
   "nbconvert_exporter": "python",
   "pygments_lexer": "ipython3",
   "version": "3.10.0"
  }
 },
 "nbformat": 4,
 "nbformat_minor": 5
}
