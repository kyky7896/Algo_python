{
 "cells": [
  {
   "cell_type": "code",
   "execution_count": 3,
   "metadata": {},
   "outputs": [
    {
     "name": "stdout",
     "output_type": "stream",
     "text": [
      "0\n"
     ]
    }
   ],
   "source": [
    "## 윤년 https://www.acmicpc.net/problem/2753\n",
    "year=int(input())\n",
    "\n",
    "def yoon(year):\n",
    "    if (year % 4 ==0 and year % 100 !=0) or year % 400 ==0 :\n",
    "        print(\"1\")\n",
    "    else:\n",
    "        print(\"0\")\n",
    "\n",
    "yoon(year)"
   ]
  }
 ],
 "metadata": {
  "interpreter": {
   "hash": "0c7701efe94ec6489896f877714a695f8866877b777e627ecf601c348360e20f"
  },
  "kernelspec": {
   "display_name": "Python 3.10.0 64-bit",
   "language": "python",
   "name": "python3"
  },
  "language_info": {
   "codemirror_mode": {
    "name": "ipython",
    "version": 3
   },
   "file_extension": ".py",
   "mimetype": "text/x-python",
   "name": "python",
   "nbconvert_exporter": "python",
   "pygments_lexer": "ipython3",
   "version": "3.10.0"
  },
  "orig_nbformat": 4
 },
 "nbformat": 4,
 "nbformat_minor": 2
}
