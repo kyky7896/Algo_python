{
 "cells": [
  {
   "cell_type": "code",
   "execution_count": null,
   "metadata": {},
   "outputs": [],
   "source": [
    "def factorial(n):\n",
    "    if int(n) > 1:\n",
    "        return int(n) * factorial(n-1)\n",
    "    return 1\n",
    "\n",
    "while True:\n",
    "    num = input()\n",
    "    if num=='0':\n",
    "        break\n",
    "    \n",
    "    n_sum=0\n",
    "    for i in range(len(num)): # i=0,1,2 돌 때\n",
    "        n_sum += int(num[i])*factorial(len(num)-i)\n",
    "    print(n_sum)"
   ]
  },
  {
   "cell_type": "code",
   "execution_count": null,
   "metadata": {},
   "outputs": [],
   "source": [
    "\n",
    "####################시간초과 때문에 이거 써줘야함.\n",
    "import sys\n",
    "def factorial(n):\n",
    "    if int(n) > 1:\n",
    "        return int(n) * factorial(n-1)\n",
    "    return 1\n",
    "\n",
    "while True:\n",
    "    num = sys.stdin.readline().strip()\n",
    "    if num=='0':\n",
    "        break\n",
    "    \n",
    "    n_sum=0\n",
    "    for i in range(len(num)): # i=0,1,2 돌 때\n",
    "        n_sum += int(num[i])*factorial(len(num)-i)\n",
    "    print(n_sum)"
   ]
  }
 ],
 "metadata": {
  "language_info": {
   "name": "python"
  },
  "orig_nbformat": 4
 },
 "nbformat": 4,
 "nbformat_minor": 2
}
