{
 "cells": [
  {
   "cell_type": "markdown",
   "metadata": {},
   "source": [
    "```\n",
    "1. 입력이 빈 문자열인 경우, 빈 문자열을 반환합니다. \n",
    "2. 문자열 w를 두 \"균형잡힌 괄호 문자열\" u, v로 분리합니다. 단, u는 \"균형잡힌 괄호 문자열\"로 더 이상 분리할 수 없어야 하며, v는 빈 문자열이 될 수 있습니다. \n",
    "3. 문자열 u가 \"올바른 괄호 문자열\" 이라면 문자열 v에 대해 1단계부터 다시 수행합니다. \n",
    "  3-1. 수행한 결과 문자열을 u에 이어 붙인 후 반환합니다. \n",
    "4. 문자열 u가 \"올바른 괄호 문자열\"이 아니라면 아래 과정을 수행합니다. \n",
    "  4-1. 빈 문자열에 첫 번째 문자로 '('를 붙입니다. \n",
    "  4-2. 문자열 v에 대해 1단계부터 재귀적으로 수행한 결과 문자열을 이어 붙입니다. \n",
    "  4-3. ')'를 다시 붙입니다. \n",
    "  4-4. u의 첫 번째와 마지막 문자를 제거하고, 나머지 문자열의 괄호 방향을 뒤집어서 뒤에 붙입니다. \n",
    "  4-5. 생성된 문자열을 반환합니다.\n",
    "  ```"
   ]
  },
  {
   "cell_type": "code",
   "execution_count": 35,
   "metadata": {},
   "outputs": [],
   "source": [
    "def divide(w):\n",
    "    openC=0\n",
    "    closeC=0\n",
    "    for i in range(len(w)): #(()) )(\n",
    "        if w[i] == '(':\n",
    "            openC+=1\n",
    "        else:\n",
    "            closeC+=1\n",
    "        if openC == closeC:\n",
    "            print(\"결과1\",w[:i+1], w[i+1:])\n",
    "            return w[:i+1], w[i+1:]\n",
    "\n",
    "def isBalanced(u): #올바른 문자열이라면 \n",
    "    stack=[]\n",
    "    for i in u:\n",
    "        if i==\"(\":\n",
    "            stack.append(i)\n",
    "        else: #i가 )인경우 stack이 비었을때\n",
    "            if not stack:\n",
    "                return False\n",
    "            stack.pop() #아니라면 stack에 \"(\"가 들어가있을테니 pop해라\n",
    "    return True #여기까지 내려온다면 True\n",
    " \n",
    "def solution(p):  #(()) )(\n",
    "    answer=\"\"\n",
    "    if not p: #1\n",
    "        return \"\"\n",
    "    u,v=divide(p) #2 균형잡힌 괄호 문자열 u,v분리 ex) u=(()) v=)(\n",
    "\n",
    "    if isBalanced(u): #3. 올바른 문자열 이라면\n",
    "        print(\"결과2\",u+solution(v))\n",
    "        return u+solution(v) #u는 올바른 문자열 / v는 1단계부터 수행하고 \n",
    "        #=> 이어붙임 \n",
    "    else: #올바른 문자열이 아니라면\n",
    "        answer+=\"(\" #4-1\n",
    "        answer+=solution(v) #4-2 )(\n",
    "        answer+=\")\" #4-3\n",
    "        u=u[1:-1] #첫번째와 마지막 제거\n",
    "        for num in u: #나머지 문자열의 괄호방향 뒤집기\n",
    "            if num==\"(\":\n",
    "                answer+=\")\"\n",
    "            else:\n",
    "                answer+=\"(\"\n",
    "    return answer\n",
    "        \n",
    "\n"
   ]
  },
  {
   "cell_type": "code",
   "execution_count": 36,
   "metadata": {},
   "outputs": [
    {
     "name": "stdout",
     "output_type": "stream",
     "text": [
      "결과1 (()) )(\n",
      "결과1 )( \n",
      "결과2 (())()\n",
      "결과1 )( \n"
     ]
    },
    {
     "data": {
      "text/plain": [
       "'(())()'"
      ]
     },
     "execution_count": 36,
     "metadata": {},
     "output_type": "execute_result"
    }
   ],
   "source": [
    "solution(\"(()))(\")"
   ]
  },
  {
   "cell_type": "code",
   "execution_count": 22,
   "metadata": {},
   "outputs": [],
   "source": []
  },
  {
   "cell_type": "code",
   "execution_count": 3,
   "metadata": {},
   "outputs": [
    {
     "data": {
      "text/plain": [
       "'나다라'"
      ]
     },
     "execution_count": 3,
     "metadata": {},
     "output_type": "execute_result"
    }
   ],
   "source": [
    "u=\"가나다라마\"\n",
    "u[1:-1]"
   ]
  },
  {
   "cell_type": "code",
   "execution_count": 4,
   "metadata": {},
   "outputs": [],
   "source": [
    "\n"
   ]
  },
  {
   "cell_type": "code",
   "execution_count": 16,
   "metadata": {},
   "outputs": [
    {
     "data": {
      "text/plain": [
       "Layer"
      ]
     },
     "execution_count": 16,
     "metadata": {},
     "output_type": "execute_result"
    }
   ],
   "source": []
  },
  {
   "cell_type": "code",
   "execution_count": null,
   "metadata": {},
   "outputs": [],
   "source": []
  }
 ],
 "metadata": {
  "interpreter": {
   "hash": "0c7701efe94ec6489896f877714a695f8866877b777e627ecf601c348360e20f"
  },
  "kernelspec": {
   "display_name": "Python 3.10.0 64-bit",
   "language": "python",
   "name": "python3"
  },
  "language_info": {
   "codemirror_mode": {
    "name": "ipython",
    "version": 3
   },
   "file_extension": ".py",
   "mimetype": "text/x-python",
   "name": "python",
   "nbconvert_exporter": "python",
   "pygments_lexer": "ipython3",
   "version": "3.10.0"
  },
  "orig_nbformat": 4
 },
 "nbformat": 4,
 "nbformat_minor": 2
}
